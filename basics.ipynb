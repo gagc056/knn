{
  "nbformat": 4,
  "nbformat_minor": 0,
  "metadata": {
    "colab": {
      "name": "basics.ipynb",
      "provenance": [],
      "collapsed_sections": [],
      "authorship_tag": "ABX9TyOcLXs2Cpt8FyZ9JgUZwpKQ",
      "include_colab_link": true
    },
    "kernelspec": {
      "name": "python3",
      "display_name": "Python 3"
    },
    "language_info": {
      "name": "python"
    }
  },
  "cells": [
    {
      "cell_type": "markdown",
      "metadata": {
        "id": "view-in-github",
        "colab_type": "text"
      },
      "source": [
        "<a href=\"https://colab.research.google.com/github/gagc056/machine_learning/blob/main/basics.ipynb\" target=\"_parent\"><img src=\"https://colab.research.google.com/assets/colab-badge.svg\" alt=\"Open In Colab\"/></a>"
      ]
    },
    {
      "cell_type": "code",
      "metadata": {
        "id": "9pgQ-Y09QLxa"
      },
      "source": [
        "import numpy as np\n",
        "\n",
        "ceros= np.zeros((2,2))\n",
        "random= np.random.random((3,5)) \n",
        "empty =np.empty((2,3))\n",
        "mast=np.array([(1, 12, 3 ,4),(1, 2, 4, 5)])\n",
        "\n",
        "new=np.linspace(9,29,3)\n",
        "print(new.ndim)\n",
        "print(new.dtype)\n",
        "print(mast[0,1])\n",
        "print(mast.sum())\n",
        "\n",
        "print(ceros)\n",
        "print(random)\n",
        "print(empty)\n",
        "print(new)\n",
        "\n",
        "\n",
        "\n",
        "\n"
      ],
      "execution_count": null,
      "outputs": []
    },
    {
      "cell_type": "code",
      "metadata": {
        "id": "6Mw__LE-3m6L"
      },
      "source": [
        "import matplotlib.pyplot as plt\n",
        "a = [1, 2, 3, 4]\n",
        "b = [11, 22, 33, 44]\n",
        "\n",
        "plt.plot(a, b, color='blue', linewidth=3, label='línea')\n",
        "plt.legend()\n",
        "plt.grid() #crea un grid\n",
        "plt.show()"
      ],
      "execution_count": null,
      "outputs": []
    },
    {
      "cell_type": "code",
      "metadata": {
        "id": "h8cEds5O5A9z"
      },
      "source": [
        "#Definir los datos\n",
        "x1 = [0.25, 1.25, 2.25, 3.25, 4.25]\n",
        "y1 = [10, 55, 80, 32, 40]\n",
        "x2 = [0.75, 1.75, 2.75, 3.75, 4.75]\n",
        "y2 = [42, 26, 10, 29, 66]\n",
        "#Configurar las características del gráfico\n",
        "plt.bar(x1, y1, label = 'Datos 1', width = 0.5, color = 'lightblue')\n",
        "plt.bar(x2, y2, label = 'Datos 2', width = 0.5, color = 'orange')\n",
        "#Definir título y nombres de ejes\n",
        "plt.title('Gráfico de barras')\n",
        "plt.ylabel('Eje Y')\n",
        "plt.xlabel('Eje X')\n",
        "#Mostrar leyenda y figura\n",
        "plt.legend()\n",
        "plt.show()"
      ],
      "execution_count": null,
      "outputs": []
    },
    {
      "cell_type": "code",
      "metadata": {
        "id": "FCd9mWkf5TPa"
      },
      "source": [
        "#Definir los datos\n",
        "a = [22,55,62,45,21,22,34,42,42,4,2,102,95,85,55,110,120,70,65,55,111,115,80,75,65,54,44,43,42,48]\n",
        "bins = [0,10,20,30,40,50,60,70,80,90,100]\n",
        "#Configurar las características del gráfico\n",
        "plt.hist(a, bins, histtype = 'bar', rwidth = 0.8, color = 'lightgreen')\n",
        "#Definir título y nombres de ejes\n",
        "plt.title('Histograma')\n",
        "plt.ylabel('Eje Y')\n",
        "plt.xlabel('Eje X')\n",
        "#Mostrar figura\n",
        "plt.show()"
      ],
      "execution_count": null,
      "outputs": []
    },
    {
      "cell_type": "code",
      "metadata": {
        "id": "ES3THiWP5eza"
      },
      "source": [
        "#Definir los datos\n",
        "dormir =[7,8,6,11,7]\n",
        "comer = [2,3,4,3,2]\n",
        "trabajar =[7,8,7,2,2]\n",
        "recreación = [8,5,7,8,13]\n",
        "divisiones = [7,2,2,13]\n",
        "actividades = ['Dormir','Comer','Trabajar','Recreación']\n",
        "colores = ['red','purple','blue','orange']\n",
        "#Configurar las características del gráfico\n",
        "plt.pie(divisiones, labels=actividades, colors=colores, startangle=90, shadow=True, explode=(0.1,0,0,0), autopct='%1.1f%%')\n",
        "#Definir título\n",
        "plt.title('Gráfico circular')\n",
        "#Mostrar figura\n",
        "plt.show()"
      ],
      "execution_count": null,
      "outputs": []
    },
    {
      "cell_type": "code",
      "metadata": {
        "id": "upWvbl1l5rVi"
      },
      "source": [
        "#Definir los datos\n",
        "import matplotlib.pyplot as plt\n",
        "x1 = [0.25, 1.25, 2.25, 3.25, 4.25]\n",
        "y1 = [10, 55, 80, 32, 40]\n",
        "x2 = [0.75, 1.75, 2.75, 3.75, 4.75]\n",
        "y2 = [42, 26, 10, 29, 66]\n",
        "#Configurar las características del gráfico\n",
        "plt.scatter(x1, y1, label = 'Datos 1',color = 'red')\n",
        "plt.scatter(x2, y2,label = 'Datos 2', color = 'purple')\n",
        "#Definir título y nombres de ejes\n",
        "plt.title('Gráfico de dispersión')\n",
        "plt.ylabel('Eje Y')\n",
        "plt.xlabel('Eje X')\n",
        "#Mostrar leyenda y figura\n",
        "plt.legend()\n",
        "plt.show()"
      ],
      "execution_count": null,
      "outputs": []
    },
    {
      "cell_type": "code",
      "metadata": {
        "id": "IZUNFe86acwb"
      },
      "source": [
        "import pandas as pd\n",
        "import numpy as np\n",
        "\n",
        "data = np.array([['','Col1','Col2'], ['Fila1',11,22], ['Fila2',33,44]])          \n",
        "print(pd.DataFrame(data = data[1:,1:], index = data[1:,0], columns = data[0,1:]))\n",
        "\n",
        "print('Forma del DataFrame:')\n",
        "print(data.shape)\n",
        "print()\n",
        "\n",
        "#print('Datos nulos en el DataFrame:')\n",
        "#print(df.isnull())\n",
        "\n",
        "#Reemplaza los valores perdidos por la media\n",
        "#print('Reemplazar los valores perdidos por la media:')\n",
        "#print(df.fillna(df.mean ()))\n"
      ],
      "execution_count": null,
      "outputs": []
    }
  ]
}