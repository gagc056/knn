{
  "nbformat": 4,
  "nbformat_minor": 0,
  "metadata": {
    "colab": {
      "name": "Untitled5.ipynb",
      "provenance": [],
      "collapsed_sections": [],
      "authorship_tag": "ABX9TyNb8Rk7n4TpRrgvKVSoU9gk",
      "include_colab_link": true
    },
    "kernelspec": {
      "name": "python3",
      "display_name": "Python 3"
    },
    "language_info": {
      "name": "python"
    }
  },
  "cells": [
    {
      "cell_type": "markdown",
      "metadata": {
        "id": "view-in-github",
        "colab_type": "text"
      },
      "source": [
        "<a href=\"https://colab.research.google.com/github/gagc056/knn/blob/main/Untitled5.ipynb\" target=\"_parent\"><img src=\"https://colab.research.google.com/assets/colab-badge.svg\" alt=\"Open In Colab\"/></a>"
      ]
    },
    {
      "cell_type": "code",
      "metadata": {
        "id": "CFgNDUTDIe2r"
      },
      "source": [
        "from sklearn import datasets\n",
        "from sklearn.model_selection import train_test_split \n",
        "\n",
        "iris = datasets.load_iris()\n",
        "x=iris.data\n",
        "y=iris.target\n",
        "#print(x.shape) # .shape how the data is read\n",
        "#print(y.shape)\n",
        "\n",
        "x_train, x_test, y_train, y_test= train_test_split(x, y, test_size= 0.2)  #20% of the data will be for testing porpouses \n",
        "print(x_train.shape)\n",
        "print(y_train.shape)\n",
        "print(y_test.shape)\n",
        "print(x_test.shape)"
      ],
      "execution_count": null,
      "outputs": []
    },
    {
      "cell_type": "code",
      "metadata": {
        "colab": {
          "base_uri": "https://localhost:8080/"
        },
        "id": "hfmhOiuATPdA",
        "outputId": "4c0e9cf3-f0ed-4a4c-f4ec-0f727cfac4c0"
      },
      "source": [
        "#k nearest neighbor\n",
        "import numpy as np\n",
        "import pandas as pd\n",
        "url=\"https://raw.githubusercontent.com/gagc056/knn/main/car.data\"\n",
        "from sklearn import neighbors, metrics\n",
        "from sklearn.model_selection import train_test_split\n",
        "from sklearn.preprocessing import LabelEncoder # transform  non-numerical labels  to numerical\n",
        "\n",
        "data=pd.read_csv(url)\n",
        "X = data[['buying', 'maint', 'safety']].values\n",
        "y = data[['class']]\n",
        "X = np.array(X)\n",
        "print(X)\n",
        "#converting data\n",
        "#X\n",
        "Le = LabelEncoder()\n",
        "for i in range(len(X[0])):\n",
        "    X[:, i] = Le.fit_transform(X[:, i])\n",
        "print(X)\n",
        "#y\n",
        "label_mapping = {\n",
        "    'unacc':0,\n",
        "    'acc':1,\n",
        "    'good':2,\n",
        "    'vgood':3\n",
        "}\n",
        "y['class'] = y['class'].map(label_mapping)\n",
        "y = np.array(y)\n",
        "\n",
        "#create model\n",
        "print(X.shape)\n",
        "print(y.shape)\n",
        "\n",
        "knn = neighbors.KNeighborsClassifier(n_neighbors= 25, weights=\"uniform\")\n",
        "X_train, X_test, y_train, y_test =  train_test_split(X, y, test_size=0.1)\n",
        "knn.fit(X_train, y_train)\n",
        "prediction = knn.predict(X_test)\n",
        "\n",
        "accuracy = metrics.accuracy_score(y_test, prediction)\n",
        "print(\"predictions:\", prediction)\n",
        "print(\"accuracy: \", accuracy)\n",
        "a = 1501\n",
        "print(\"actual value \", y[a])\n",
        "print(\"predicted value\", knn.predict(X)[a])\n",
        "\n",
        "\n"
      ],
      "execution_count": 1,
      "outputs": [
        {
          "output_type": "stream",
          "text": [
            "[['vhigh' 'vhigh' 'low']\n",
            " ['vhigh' 'vhigh' 'med']\n",
            " ['vhigh' 'vhigh' 'high']\n",
            " ...\n",
            " ['low' 'low' 'low']\n",
            " ['low' 'low' 'med']\n",
            " ['low' 'low' 'high']]\n",
            "[[3 3 1]\n",
            " [3 3 2]\n",
            " [3 3 0]\n",
            " ...\n",
            " [1 1 1]\n",
            " [1 1 2]\n",
            " [1 1 0]]\n",
            "(1728, 3)\n",
            "(1728, 1)\n",
            "predictions: [0 0 0 0 1 0 1 0 0 0 1 0 0 0 0 0 1 1 1 1 1 0 0 0 1 0 0 0 0 0 0 0 0 0 1 0 1\n",
            " 0 0 1 1 0 2 0 0 2 1 1 0 2 0 1 0 0 0 2 1 0 0 0 0 0 0 0 0 0 0 1 0 0 0 1 1 1\n",
            " 0 0 0 0 0 0 0 0 1 0 0 0 0 0 0 0 0 0 0 0 1 0 0 1 0 0 2 0 1 0 0 0 0 2 0 0 2\n",
            " 0 1 0 0 0 1 1 0 0 0 0 0 0 1 0 0 0 0 1 0 0 0 0 0 0 0 0 0 1 0 0 0 0 0 0 1 1\n",
            " 0 0 0 2 1 0 0 0 1 0 0 0 0 0 0 0 2 0 1 0 0 0 0 0 0]\n",
            "accuracy:  0.7398843930635838\n",
            "actual value  [1]\n",
            "predicted value 1\n"
          ],
          "name": "stdout"
        },
        {
          "output_type": "stream",
          "text": [
            "/usr/local/lib/python3.7/dist-packages/ipykernel_launcher.py:27: SettingWithCopyWarning: \n",
            "A value is trying to be set on a copy of a slice from a DataFrame.\n",
            "Try using .loc[row_indexer,col_indexer] = value instead\n",
            "\n",
            "See the caveats in the documentation: https://pandas.pydata.org/pandas-docs/stable/user_guide/indexing.html#returning-a-view-versus-a-copy\n",
            "/usr/local/lib/python3.7/dist-packages/ipykernel_launcher.py:36: DataConversionWarning: A column-vector y was passed when a 1d array was expected. Please change the shape of y to (n_samples, ), for example using ravel().\n"
          ],
          "name": "stderr"
        }
      ]
    }
  ]
}